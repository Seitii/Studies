{
 "cells": [
  {
   "cell_type": "markdown",
   "metadata": {},
   "source": [
    "# Aula 01 - Gravação de audio com Python e JavaScript\n",
    "## Não esta funcionando a API do chatgpt, então realizei com a API da google mesmo... \n"
   ]
  },
  {
   "cell_type": "code",
   "execution_count": null,
   "metadata": {},
   "outputs": [],
   "source": [
    "language = 'pt'"
   ]
  },
  {
   "cell_type": "code",
   "execution_count": null,
   "metadata": {},
   "outputs": [],
   "source": [
    "from IPython.display import Audio, display, Javascript\n",
    "from google.colab import output\n",
    "from base64 import b64decode\n",
    "\n",
    "RECORD = \"\"\"\n",
    "const sleep = time  => new Promise(resolve => setTimeout(resolve, time))\n",
    "const b2text = blob => new Promise(resolve => {\n",
    "    const reader = new FileReader()\n",
    "    reader.onloadend = e => resolve(e.srcElement.result)\n",
    "    reader.readAsDataURL(blob)\n",
    "})\n",
    "\n",
    "var record = time => new Promise(async resolve => {\n",
    "    stream = await navigator.mediaDevices.getUserMedia({audio: true})\n",
    "    recorder = new MediaRecorder(stream)\n",
    "    chunks = []\n",
    "    recorder.ondataavailable = e => chunks.push(e.data)\n",
    "    recorder.start()\n",
    "    await sleep(time)\n",
    "    recorder.onstop = async ()=>{\n",
    "        blob = new Blob(chunks)\n",
    "        text = await b2text(blob)\n",
    "        resolve(text)\n",
    "    }\n",
    "    recorder.stop()\n",
    "})\n",
    "\"\"\"\n",
    "\n",
    "def record(sec=5):\n",
    "    display(Javascript(RECORD)) # carrega o codigo javascript no colab\n",
    "    js_result = output.eval_js('record(%s)' % (sec * 1000)) # eval_js = executa o código js (promisse)\n",
    "    audio = b64decode(js_result.split(',')[1]) # pega o resultado do js e decodifica\n",
    "    nome_arquivo = 'request_audio.wav'\n",
    "    with open(nome_arquivo, 'wb') as arquivo: # wb = web binario, salva o arquivo em binario\n",
    "        arquivo.write(audio)  # escreve o audio em um arquivo\n",
    "    return f'/content/{nome_arquivo}'\n",
    "\n",
    "\n",
    "print(\"estou ouvindo \")\n",
    "record_file = record() # grava o audio e retorna o nome do arquivo\n",
    "display(Audio(record_file, autoplay=True))"
   ]
  },
  {
   "cell_type": "markdown",
   "metadata": {},
   "source": [
    "# Aula 02 - Reconhecimento de fala com o Whisper (Open IA)\n",
    "## Speech-to-text = google"
   ]
  },
  {
   "cell_type": "code",
   "execution_count": null,
   "metadata": {},
   "outputs": [],
   "source": [
    "!pip install git+https://github.com/openai/whisper.git -q"
   ]
  },
  {
   "cell_type": "code",
   "execution_count": null,
   "metadata": {},
   "outputs": [],
   "source": [
    "import whisper\n",
    "\n",
    "model = whisper.load_model(\"small\") # escolhe o tamanho do modelo, quanto maior (mais pesado) tiny, small, large.\n",
    "resultado = model.transcribe(record_file, fp16=False, language=language) # transcreve o audio gravado em texto\n",
    "transcription = resultado['text'] # pega o texto do resultado\n",
    "print(transcription) # imprime o texto"
   ]
  },
  {
   "cell_type": "markdown",
   "metadata": {},
   "source": [
    "# Aula 03 - Integração com a API do ChatGPT"
   ]
  },
  {
   "cell_type": "code",
   "execution_count": null,
   "metadata": {},
   "outputs": [],
   "source": [
    "!pip install openai"
   ]
  },
  {
   "cell_type": "code",
   "execution_count": null,
   "metadata": {},
   "outputs": [],
   "source": [
    "import openai\n",
    "\n",
    "openai.api_key = \"\"\n",
    "\n",
    "response = openai.ChatCompletion.create(\n",
    "    model = \"gpt-3.5-turbo\",\n",
    "    messages=[{\"role\": \"user\", \"content\": transcription}] # envia o texto para o gpt3\n",
    ")\n",
    "\n",
    "# choices[0] é a primeira resposta mais assertiva\n",
    "chatgpt_response = response.choices[0].message.content # pega a resposta do gpt3\n",
    "print(chatgpt_response) # imprime a resposta"
   ]
  },
  {
   "cell_type": "markdown",
   "metadata": {},
   "source": [
    "# Aula 04 - Sintetizando voz usando gTTS \n",
    "## Text-to-Speech da google"
   ]
  },
  {
   "cell_type": "code",
   "execution_count": null,
   "metadata": {},
   "outputs": [],
   "source": [
    "!pip install gTTS"
   ]
  },
  {
   "cell_type": "code",
   "execution_count": null,
   "metadata": {},
   "outputs": [],
   "source": [
    "from gtts import gTTS \n",
    "\n",
    "gtts_object = gTTS(text=transcription, lang=language, slow=False) # cria um objeto gtts(converte o texto em audio) com a resposta do gpt3 \n",
    "response_audio = '/content/response_audio.wav' # nome do arquivo de resposta \n",
    "gtts_object.save(response_audio) # salva o audio da resposta \n",
    "display(Audio(response_audio, autoplay=True)) # exibe o audio da resposta\n"
   ]
  }
 ],
 "metadata": {
  "kernelspec": {
   "display_name": "Python 3 (ipykernel)",
   "language": "python",
   "name": "python3"
  }
 },
 "nbformat": 4,
 "nbformat_minor": 2
}
